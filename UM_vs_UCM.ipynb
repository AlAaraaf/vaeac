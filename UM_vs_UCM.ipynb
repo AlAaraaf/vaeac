{
 "cells": [
  {
   "cell_type": "code",
   "execution_count": 1,
   "metadata": {},
   "outputs": [],
   "source": [
    "import numpy as np\n",
    "import torch\n",
    "from torch import nn\n",
    "from torch.autograd import Variable\n",
    "from torch.utils.data import TensorDataset\n",
    "from UCM import UCM"
   ]
  },
  {
   "cell_type": "code",
   "execution_count": 2,
   "metadata": {},
   "outputs": [],
   "source": [
    "from test_utils import compute_log_likelihood_importance_sampling, compute_log_likelihood_monte_carlo, \\\n",
    "                        model_test_loss, log_mean_exp\n",
    "from train_utils import train_model\n",
    "from losses import gaussian_loss\n",
    "from mask_generators import generate_bernoulli"
   ]
  },
  {
   "cell_type": "code",
   "execution_count": 3,
   "metadata": {},
   "outputs": [],
   "source": [
    "def generate_bernoulli_2d(batch_size):\n",
    "    return generate_bernoulli(batch_size, 2)"
   ]
  },
  {
   "cell_type": "code",
   "execution_count": 4,
   "metadata": {},
   "outputs": [],
   "source": [
    "np.random.seed(123)"
   ]
  },
  {
   "cell_type": "code",
   "execution_count": 5,
   "metadata": {},
   "outputs": [],
   "source": [
    "m = torch.tensor([[2, 2], [-2, -2]]).float()\n",
    "data = torch.randn(10000, 2) * 0.1 + m[np.random.choice(2, 10000)]\n",
    "train_data = TensorDataset(data[:7000])\n",
    "test_data = TensorDataset(data[7000:])"
   ]
  },
  {
   "cell_type": "code",
   "execution_count": 6,
   "metadata": {},
   "outputs": [],
   "source": [
    "class UM(nn.Module):\n",
    "    def __init__(self, loss, network):\n",
    "        super(type(self), self).__init__()\n",
    "        self.loss = loss\n",
    "        self.network = network\n",
    "\n",
    "    def batch_loss(self, batch, weights=None, K=1):\n",
    "        res = 0\n",
    "        for i in range(K):\n",
    "            x, b = batch\n",
    "            b = b * torch.bernoulli(torch.ones_like(b).cuda() * torch.rand(b.size(0), 1).cuda()).cuda()\n",
    "            x, b = Variable(x), Variable(b)\n",
    "            data = torch.cat([x * (1 - b), b], 1)\n",
    "            x_distr = self.network(data)\n",
    "            res += self.loss(x, x_distr, b).mean() / K\n",
    "        return res\n",
    "\n",
    "    def generate_samples(self, x, b, K):\n",
    "        n, d = x.shape\n",
    "        x = x * (1 - b)\n",
    "        x = x.view(n, 1, d).repeat(1, K, 1).view(-1, d)\n",
    "        b = b.view(n, 1, d).repeat(1, K, 1).view(-1, d)\n",
    "        while (b.sum() != 0):\n",
    "            data = torch.cat([x, b], 1)\n",
    "            x_distr = self.network(Variable(data)).data\n",
    "            b_sum = b.sum(1, True)\n",
    "            i_idx = torch.nonzero(b_sum)[:, 0]\n",
    "            j_idx = torch.multinomial(b[i_idx] / b_sum[i_idx], 1).view(-1)\n",
    "            mu = x_distr[i_idx, j_idx]\n",
    "            sigma = x_distr[i_idx, j_idx + d]\n",
    "            sigma = nn.functional.softplus(sigma)\n",
    "            x[i_idx, j_idx] = mu + torch.randn(*mu.shape) * sigma\n",
    "            b[i_idx, j_idx] = 0\n",
    "        return x.view(n, K, d)"
   ]
  },
  {
   "cell_type": "code",
   "execution_count": 7,
   "metadata": {},
   "outputs": [],
   "source": [
    "network = nn.Sequential(\n",
    "    nn.Linear(4, 16),\n",
    "    nn.LeakyReLU(inplace=True),\n",
    "    nn.Linear(16, 64),\n",
    "    nn.LeakyReLU(),\n",
    "    nn.Linear(64, 16),\n",
    "    nn.LeakyReLU(),\n",
    "    nn.Linear(16, 4),\n",
    ")\n",
    "prior_network = nn.Sequential(\n",
    "    nn.Linear(4, 16),\n",
    "    nn.LeakyReLU(inplace=True),\n",
    ")\n",
    "prior_mu_head = nn.Linear(16, 64)\n",
    "prior_sigma_head = nn.Linear(16, 64)\n",
    "proposal_network = nn.Sequential(\n",
    "    nn.Linear(4, 16),\n",
    "    nn.LeakyReLU(inplace=True),\n",
    ")\n",
    "proposal_mu_head = nn.Linear(16, 64)\n",
    "proposal_sigma_head = nn.Linear(16, 64)\n",
    "generative_network = nn.Sequential(\n",
    "    nn.Linear(64, 16),\n",
    "    nn.LeakyReLU(inplace=True),\n",
    "    nn.Linear(16, 4),\n",
    ")"
   ]
  },
  {
   "cell_type": "code",
   "execution_count": 8,
   "metadata": {},
   "outputs": [],
   "source": [
    "model = UM(gaussian_loss, network)"
   ]
  },
  {
   "cell_type": "code",
   "execution_count": 9,
   "metadata": {},
   "outputs": [
    {
     "name": "stdout",
     "output_type": "stream",
     "text": [
      "Epoch 0 Train loss -3.0614311695098877 Batch 35 of 35           \n",
      "Epoch 1 Train loss -3.0728724002838135 Batch 35 of 35           \n",
      "Epoch 2 Train loss -2.4823501110076904 Batch 35 of 35           \n",
      "Epoch 3 Train loss -2.4006645679473877 Batch 35 of 35           \n",
      "Epoch 4 Train loss -1.6981271505355835 Batch 35 of 35           \n",
      "Epoch 5 Train loss -1.6606236696243286 Batch 35 of 35           \n",
      "Epoch 6 Train loss -2.0377750396728516 Batch 35 of 35           \n",
      "Epoch 7 Train loss -1.80861496925354 Batch 35 of 35            \n",
      "Epoch 8 Train loss -1.175489068031311 Batch 35 of 35           \n",
      "Epoch 9 Train loss -1.8115174770355225 Batch 35 of 35           \n",
      "Epoch 10 Train loss -1.7106624841690063 Batch 35 of 35           \n",
      "Epoch 11 Train loss -1.591077446937561 Batch 35 of 35           \n",
      "Epoch 12 Train loss -1.7320088148117065 Batch 35 of 35           \n",
      "Epoch 13 Train loss -1.9419119358062744 Batch 35 of 35           \n",
      "Epoch 14 Train loss -1.8209439516067505 Batch 35 of 35           \n",
      "Epoch 15 Train loss -1.9027279615402222 Batch 35 of 35           \n",
      "Epoch 16 Train loss -1.681787133216858 Batch 35 of 35           \n",
      "Epoch 17 Train loss -1.8116891384124756 Batch 35 of 35           \n",
      "Epoch 18 Train loss -1.8826392889022827 Batch 35 of 35           \n",
      "Epoch 19 Train loss -1.6584076881408691 Batch 35 of 35           \n",
      "Epoch 20 Train loss -1.5455338954925537 Batch 35 of 35           \n",
      "Epoch 21 Train loss -1.7998073101043701 Batch 35 of 35           \n",
      "Epoch 22 Train loss -1.8458856344223022 Batch 35 of 35           \n",
      "Epoch 23 Train loss -1.6273400783538818 Batch 35 of 35           \n",
      "Epoch 24 Train loss -1.6114418506622314 Batch 35 of 35           \n",
      "Epoch 25 Train loss -1.8260174989700317 Batch 35 of 35           \n",
      "Epoch 26 Train loss -1.8227195739746094 Batch 35 of 35           \n",
      "Epoch 27 Train loss -2.009164333343506 Batch 35 of 35           \n",
      "Epoch 28 Train loss -1.43233323097229 Batch 35 of 35           \n",
      "Epoch 29 Train loss -1.5990664958953857 Batch 35 of 35           \n",
      "CPU times: user 7.65 s, sys: 724 ms, total: 8.37 s\n",
      "Wall time: 8.32 s\n"
     ]
    }
   ],
   "source": [
    "%time model_um = train_model(train_data, model, generate_bernoulli_2d, \\\n",
    "                             batch_size=200, num_epochs=30, learning_rate=1e-3)"
   ]
  },
  {
   "cell_type": "code",
   "execution_count": 10,
   "metadata": {},
   "outputs": [],
   "source": [
    "def chain_rule_log_likelihood_estimation(model, x_true, b, K=1):\n",
    "    n, d = b.shape\n",
    "    x_true = x_true.view(n, 1, d).repeat(1, K, 1).view(-1, d)\n",
    "    b = b.view(n, 1, d).repeat(1, K, 1).view(-1, d)\n",
    "    res = torch.zeros(b.size(0)).cuda()\n",
    "    while (b.sum() != 0):\n",
    "        data = torch.cat([x_true * (1 - b), b], 1)\n",
    "        x_distr = model.network(Variable(data)).data\n",
    "        b_sum = b.sum(1, True)\n",
    "        i_idx = torch.nonzero(b_sum)[:, 0]\n",
    "        j_idx = torch.multinomial(b[i_idx] / b_sum[i_idx], 1).view(-1)\n",
    "        add = gaussian_loss(\n",
    "            x_true[i_idx, j_idx].view(-1, 1),\n",
    "            x_distr[i_idx, j_idx].view(-1, 1), torch.ones(i_idx.shape[0], 1).cuda())[:, 0]\n",
    "        res[i_idx] += add\n",
    "        b[i_idx, j_idx] = 0\n",
    "    return float(log_mean_exp(res.view(-1, K)).mean())"
   ]
  },
  {
   "cell_type": "code",
   "execution_count": 11,
   "metadata": {},
   "outputs": [
    {
     "name": "stdout",
     "output_type": "stream",
     "text": [
      "-5.8854570388793945\n",
      "CPU times: user 20.2 ms, sys: 0 ns, total: 20.2 ms\n",
      "Wall time: 19.9 ms\n"
     ]
    }
   ],
   "source": [
    "model_um['model'].cuda()\n",
    "%time print(model_test_loss(test_data, generate_bernoulli_2d, \\\n",
    "                            lambda batch, b: \\\n",
    "                            chain_rule_log_likelihood_estimation(model_um['model'], batch, b, K=100), \\\n",
    "                            max_batches=5, batch_size=1, is_cuda=True))\n",
    "model_um['model'].cpu()\n",
    "pass"
   ]
  },
  {
   "cell_type": "code",
   "execution_count": 12,
   "metadata": {},
   "outputs": [],
   "source": [
    "model = UCM(1, gaussian_loss,\n",
    "        proposal_network, proposal_mu_head, proposal_sigma_head,\n",
    "        prior_network, prior_mu_head, prior_sigma_head,\n",
    "        generative_network)"
   ]
  },
  {
   "cell_type": "code",
   "execution_count": 13,
   "metadata": {},
   "outputs": [
    {
     "name": "stdout",
     "output_type": "stream",
     "text": [
      "Epoch 0 Train loss -5.60271692276001 Batch 35 of 35            \n",
      "Epoch 1 Train loss -5.540275573730469 Batch 35 of 35           \n",
      "Epoch 2 Train loss -4.997217655181885 Batch 35 of 35           \n",
      "Epoch 3 Train loss -5.017531394958496 Batch 35 of 35           \n",
      "Epoch 4 Train loss -4.921475410461426 Batch 35 of 35           \n",
      "Epoch 5 Train loss -4.8700175285339355 Batch 35 of 35           \n",
      "Epoch 6 Train loss -4.447007656097412 Batch 35 of 35           \n",
      "Epoch 7 Train loss -4.293051242828369 Batch 35 of 35           \n",
      "Epoch 8 Train loss -4.662258148193359 Batch 35 of 35           \n",
      "Epoch 9 Train loss -3.6239335536956787 Batch 35 of 35           \n",
      "Epoch 10 Train loss -2.9268455505371094 Batch 35 of 35           \n",
      "Epoch 11 Train loss -2.396019458770752 Batch 35 of 35           \n",
      "Epoch 12 Train loss -1.8398932218551636 Batch 35 of 35           \n",
      "Epoch 13 Train loss -1.8562535047531128 Batch 35 of 35           \n",
      "Epoch 14 Train loss -1.568060040473938 Batch 35 of 35           \n",
      "Epoch 15 Train loss -1.4302009344100952 Batch 35 of 35           \n",
      "Epoch 16 Train loss -1.5100516080856323 Batch 35 of 35           \n",
      "Epoch 17 Train loss -1.7817872762680054 Batch 35 of 35           \n",
      "Epoch 18 Train loss -1.5949513912200928 Batch 35 of 35           \n",
      "Epoch 19 Train loss -1.3700087070465088 Batch 35 of 35           \n",
      "Epoch 20 Train loss -1.490553855895996 Batch 35 of 35           \n",
      "Epoch 21 Train loss -1.4984081983566284 Batch 35 of 35           \n",
      "Epoch 22 Train loss -1.393174409866333 Batch 35 of 35           \n",
      "Epoch 23 Train loss -1.583349585533142 Batch 35 of 35           \n",
      "Epoch 24 Train loss -1.4974485635757446 Batch 35 of 35           \n",
      "Epoch 25 Train loss -1.3014624118804932 Batch 35 of 35           \n",
      "Epoch 26 Train loss -1.547682285308838 Batch 35 of 35           \n",
      "Epoch 27 Train loss -1.2995762825012207 Batch 35 of 35           \n",
      "Epoch 28 Train loss -1.267670750617981 Batch 35 of 35           \n",
      "Epoch 29 Train loss -1.3762691020965576 Batch 35 of 35           \n",
      "CPU times: user 11 s, sys: 76 ms, total: 11.1 s\n",
      "Wall time: 11 s\n"
     ]
    }
   ],
   "source": [
    "%time model_ucm = train_model(train_data, model, generate_bernoulli_2d, \\\n",
    "                              batch_size=200, num_epochs=30, learning_rate=1e-2)"
   ]
  },
  {
   "cell_type": "code",
   "execution_count": 14,
   "metadata": {},
   "outputs": [],
   "source": [
    "def average(func, K=5):\n",
    "    res = []\n",
    "    for i in range(K):\n",
    "        res.append(func())\n",
    "    res = torch.Tensor(res)\n",
    "    return res.mean(), res.std()"
   ]
  },
  {
   "cell_type": "code",
   "execution_count": 15,
   "metadata": {},
   "outputs": [],
   "source": [
    "is_100 = lambda: \\\n",
    "    model_test_loss(test_data, generate_bernoulli_2d,\n",
    "                    lambda batch, b:    compute_log_likelihood_importance_sampling(batch, b,\n",
    "                                                                                   model_ucm['model'].cuda(),\n",
    "                                                                                   gaussian_loss, K=100),\n",
    "                    is_cuda=True,\n",
    "                    max_batches=30)"
   ]
  },
  {
   "cell_type": "code",
   "execution_count": 16,
   "metadata": {},
   "outputs": [
    {
     "name": "stdout",
     "output_type": "stream",
     "text": [
      "-1.084287 \\pm 0.003568\n",
      "CPU times: user 8.88 s, sys: 34.4 ms, total: 8.91 s\n",
      "Wall time: 8.91 s\n"
     ]
    }
   ],
   "source": [
    "%time print('%f \\pm %f' % average(is_100))"
   ]
  },
  {
   "cell_type": "code",
   "execution_count": 17,
   "metadata": {},
   "outputs": [],
   "source": [
    "from matplotlib import pyplot as plt\n",
    "%matplotlib inline"
   ]
  },
  {
   "cell_type": "code",
   "execution_count": 18,
   "metadata": {},
   "outputs": [
    {
     "data": {
      "image/png": "[encoded data removed]",
      "text/plain": [
       "<Figure size 171x144 with 2 Axes>"
      ]
     },
     "metadata": {},
     "output_type": "display_data"
    }
   ],
   "source": [
    "plt.figure(figsize=(4.75 / 2, 4. / 2))\n",
    "\n",
    "x0, y0 = np.arange(-3.0, 3.000001, 0.05), np.arange(-3.0, 3.00001, 0.05)\n",
    "x, y = np.meshgrid(x0, y0)\n",
    "d1 = x[:, :, np.newaxis] - m.numpy()[np.newaxis, np.newaxis, :, 0]\n",
    "d2 = y[:, :, np.newaxis] - m.numpy()[np.newaxis, np.newaxis, :, 1]\n",
    "d = d1 ** 2 + d2 ** 2\n",
    "f = np.log(1 / 2 / np.pi / 0.01) - d / 2 / (0.1**2)\n",
    "maxf = f.max(axis=2)[:, :, np.newaxis]\n",
    "f = np.log(np.exp(f - maxf).mean(axis=2)) + maxf[:, :, 0]\n",
    "f = np.exp(f)\n",
    "plt.pcolormesh(x, y, f, vmax=2, shading='gouraud')\n",
    "plt.colorbar()\n",
    "plt.xlabel('$x_1$', fontsize=14)\n",
    "plt.ylabel('$x_2$', rotation=0, fontsize=14)\n",
    "plt.xlim(-3.0, 3.0)\n",
    "plt.ylim(-3.0, 3.0)\n",
    "plt.savefig('gaussians_true_00.pdf', bbox_inches='tight')"
   ]
  },
  {
   "cell_type": "code",
   "execution_count": 19,
   "metadata": {},
   "outputs": [
    {
     "data": {
      "image/png": "[encoded data removed]",
      "text/plain": [
       "<Figure size 144x144 with 1 Axes>"
      ]
     },
     "metadata": {},
     "output_type": "display_data"
    }
   ],
   "source": [
    "plt.figure(figsize=(2, 2))\n",
    "\n",
    "plt.xlabel('$x_1$', fontsize=12)\n",
    "plt.ylabel('$x_2$', rotation=0, fontsize=12)\n",
    "model_ucm['model'].cpu()\n",
    "p = model_ucm['model'].generate_samples(torch.zeros(500, 2), torch.ones(500, 2), 1).view(-1, 4)\n",
    "mu = p[:, :2]\n",
    "sigma = p[:, 2:]\n",
    "sigma = nn.functional.softplus(sigma)\n",
    "p = mu + torch.randn(*mu.shape) * sigma\n",
    "plt.xlim(-3.0, 3.0)\n",
    "plt.ylim(-3.0, 3.0)\n",
    "plt.scatter(p[:, 0], p[:, 1], alpha=0.25, s=10)\n",
    "plt.tight_layout(pad=0, w_pad=0.5, h_pad=0.5)\n",
    "plt.savefig('gaussian_ucm.pdf', bbox_inches='tight')"
   ]
  },
  {
   "cell_type": "code",
   "execution_count": 20,
   "metadata": {},
   "outputs": [
    {
     "data": {
      "image/png": "[encoded data removed]",
      "text/plain": [
       "<Figure size 144x144 with 1 Axes>"
      ]
     },
     "metadata": {},
     "output_type": "display_data"
    }
   ],
   "source": [
    "plt.figure(figsize=(2, 2))\n",
    "\n",
    "plt.xlabel('$x_1$', fontsize=12)\n",
    "plt.ylabel('$x_2$', rotation=0, fontsize=12)\n",
    "model_um['model'].cpu()\n",
    "p = model_um['model'].generate_samples(torch.zeros(500, 2), torch.ones(500, 2), 1).view(-1, 4)\n",
    "mu = p[:, :2]\n",
    "sigma = p[:, 2:]\n",
    "sigma = nn.functional.softplus(sigma)\n",
    "p = mu + torch.randn(*mu.shape) * sigma\n",
    "plt.xlim(-3.0, 3.0)\n",
    "plt.ylim(-3.0, 3.0)\n",
    "plt.scatter(p[:, 0], p[:, 1], alpha=0.25, s=10)\n",
    "plt.tight_layout(pad=0, w_pad=0.5, h_pad=0.5)\n",
    "plt.savefig('gaussian_um.pdf', bbox_inches='tight')"
   ]
  }
 ],
 "metadata": {
  "kernelspec": {
   "display_name": "Python 3",
   "language": "python",
   "name": "python3"
  },
  "language_info": {
   "codemirror_mode": {
    "name": "ipython",
    "version": 3
   },
   "file_extension": ".py",
   "mimetype": "text/x-python",
   "name": "python",
   "nbconvert_exporter": "python",
   "pygments_lexer": "ipython3",
   "version": "3.6.4"
  }
 },
 "nbformat": 4,
 "nbformat_minor": 2
}
