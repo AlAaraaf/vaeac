{
 "cells": [
  {
   "cell_type": "code",
   "execution_count": 1,
   "metadata": {},
   "outputs": [],
   "source": [
    "from torchvision.datasets import MNIST\n",
    "import numpy as np\n",
    "import torch\n",
    "from torch import nn\n",
    "from torch.autograd import Variable\n",
    "from torch.utils.data import TensorDataset"
   ]
  },
  {
   "cell_type": "code",
   "execution_count": 2,
   "metadata": {},
   "outputs": [],
   "source": [
    "from test_utils import compute_log_likelihood_importance_sampling, compute_log_likelihood_monte_carlo, \\\n",
    "                        model_test_loss, log_mean_exp\n",
    "from train_utils import train_model\n",
    "from losses import binary_crossentropy_loss\n",
    "from mask_generators import generate_horizontal_line\n",
    "from nn_utils import MemData, Reshape, MergeSkipConnection, AddSkipConnection, ResNetBlock"
   ]
  },
  {
   "cell_type": "code",
   "execution_count": 3,
   "metadata": {},
   "outputs": [],
   "source": [
    "def generate_horizontal_line_MNIST(batch_size):\n",
    "    return generate_horizontal_line(batch_size, 28, 28, 3)"
   ]
  },
  {
   "cell_type": "code",
   "execution_count": 4,
   "metadata": {},
   "outputs": [],
   "source": [
    "data = MNIST('mnist', download=True, train=True)\n",
    "train_data = TensorDataset(data.train_data.view(-1, 28 * 28).float() / 255)\n",
    "data = MNIST('mnist', download=True, train=False)\n",
    "test_data = TensorDataset(data.test_data.view(-1, 28 * 28).float() / 255)"
   ]
  },
  {
   "cell_type": "code",
   "execution_count": 5,
   "metadata": {},
   "outputs": [],
   "source": [
    "train_data.tensors = (train_data.tensors[0].round(),)\n",
    "test_data.tensors = (test_data.tensors[0].round(),)"
   ]
  },
  {
   "cell_type": "code",
   "execution_count": 6,
   "metadata": {},
   "outputs": [
    {
     "data": {
      "image/png": "[encoded data removed]",
      "text/plain": [
       "<Figure size 864x172.8 with 10 Axes>"
      ]
     },
     "metadata": {},
     "output_type": "display_data"
    }
   ],
   "source": [
    "from matplotlib import pyplot as plt\n",
    "%matplotlib inline\n",
    "\n",
    "def show_images(x):\n",
    "    plt.figure(figsize=(12, 12 / 10 * (x.shape[0] // 10 + 1)))\n",
    "    x = x.view(-1, 28, 28)\n",
    "    for i in range(x.shape[0]):\n",
    "        plt.subplot(x.shape[0] // 10 + 1, 10, i + 1)\n",
    "        plt.imshow(x.data[i].numpy(), cmap='Greys_r', vmin=0, vmax=1, interpolation='lanczos')\n",
    "        plt.axis('off')\n",
    "\n",
    "show_images(Variable(train_data[:10][0]))"
   ]
  },
  {
   "cell_type": "code",
   "execution_count": 7,
   "metadata": {},
   "outputs": [],
   "source": [
    "class UM(nn.Module):\n",
    "    def __init__(self, loss, network):\n",
    "        super(type(self), self).__init__()\n",
    "        self.loss = loss\n",
    "        self.network = network\n",
    "\n",
    "    def batch_loss(self, batch, weights=None, K=1):\n",
    "        res = 0\n",
    "        for i in range(K):\n",
    "            x, b = batch\n",
    "            b = b * torch.bernoulli(torch.ones_like(b).cuda() * torch.rand(b.size(0), 1).cuda()).cuda()\n",
    "            x, b = Variable(x), Variable(b)\n",
    "            data = torch.cat([x * (1 - b), b], 1)\n",
    "            x_distr = self.network(data)\n",
    "            res += self.loss(x, x_distr, b).mean() / K\n",
    "        return res\n",
    "\n",
    "    def generate_samples(self, x, b, K):\n",
    "        n, d = x.shape\n",
    "        x = x * (1 - b)\n",
    "        x = x.view(n, 1, d).repeat(1, K, 1).view(-1, d)\n",
    "        b = b.view(n, 1, d).repeat(1, K, 1).view(-1, d)\n",
    "        while (b.sum() != 0):\n",
    "            data = torch.cat([x, b], 1)\n",
    "            x_distr = self.network(Variable(data)).data\n",
    "            b_sum = b.sum(1, True)\n",
    "            i_idx = torch.nonzero(b_sum)[:, 0]\n",
    "            j_idx = torch.multinomial(b[i_idx] / b_sum[i_idx], 1).view(-1)\n",
    "            x[i_idx, j_idx] = torch.bernoulli(x_distr[i_idx, j_idx])\n",
    "            b[i_idx, j_idx] = 0\n",
    "        return x.view(n, K, d)"
   ]
  },
  {
   "cell_type": "code",
   "execution_count": 8,
   "metadata": {},
   "outputs": [],
   "source": [
    "skip_connection_0 = MemData()\n",
    "skip_connection_1 = MemData()\n",
    "skip_connection_2 = MemData()\n",
    "skip_connection_3 = MemData()\n",
    "network = nn.Sequential(\n",
    "    Reshape(2, 28, 28),\n",
    "    skip_connection_0,\n",
    "    ResNetBlock(2, 6, 2),\n",
    "    skip_connection_1,\n",
    "    ResNetBlock(6, 16, 2),\n",
    "    skip_connection_2,\n",
    "    Reshape(-1),\n",
    "    nn.Linear(784, 256),\n",
    "    nn.LeakyReLU(inplace=True),\n",
    "    skip_connection_3,\n",
    "    nn.Linear(256, 16),\n",
    "    nn.LeakyReLU(inplace=True),\n",
    "    nn.Linear(16, 256),\n",
    "    nn.LeakyReLU(),\n",
    "    MergeSkipConnection(skip_connection_3),\n",
    "    nn.Linear(256 + 256, 784),\n",
    "    nn.LeakyReLU(),\n",
    "    Reshape(16, 7, 7),\n",
    "    MergeSkipConnection(skip_connection_2),\n",
    "    nn.Upsample(scale_factor=2),\n",
    "    ResNetBlock(16 + 16, 6),\n",
    "    MergeSkipConnection(skip_connection_1),\n",
    "    nn.Upsample(scale_factor=2),\n",
    "    MergeSkipConnection(skip_connection_0),\n",
    "    ResNetBlock(6 + 6 + 2, 6),\n",
    "    nn.Conv2d(6, 1, 1),\n",
    "    nn.Sigmoid(),\n",
    "    Reshape(-1),\n",
    ")"
   ]
  },
  {
   "cell_type": "code",
   "execution_count": 9,
   "metadata": {},
   "outputs": [],
   "source": [
    "model = UM(binary_crossentropy_loss, network)"
   ]
  },
  {
   "cell_type": "code",
   "execution_count": 10,
   "metadata": {},
   "outputs": [
    {
     "name": "stdout",
     "output_type": "stream",
     "text": [
      "Epoch 0 Train loss -47.687862396240234 Batch 300 of 300           \n",
      "Epoch 1 Train loss -40.612335205078125 Batch 300 of 300           \n",
      "Epoch 2 Train loss -45.733089447021484 Batch 300 of 300           \n",
      "Epoch 3 Train loss -40.29722213745117 Batch 300 of 300            \n",
      "Epoch 4 Train loss -35.65074920654297 Batch 300 of 300            \n",
      "Epoch 5 Train loss -40.48788070678711 Batch 300 of 300            \n",
      "Epoch 6 Train loss -35.0073127746582 Batch 300 of 300             \n",
      "Epoch 7 Train loss -35.508544921875 Batch 300 of 300              \n",
      "Epoch 8 Train loss -38.568485260009766 Batch 300 of 300           \n",
      "Epoch 9 Train loss -32.62111282348633 Batch 300 of 300           \n",
      "Epoch 10 Train loss -33.758949279785156 Batch 300 of 300           \n",
      "Epoch 11 Train loss -31.194372177124023 Batch 300 of 300           \n",
      "Epoch 12 Train loss -33.06964111328125 Batch 300 of 300            \n",
      "Epoch 13 Train loss -33.63426971435547 Batch 300 of 300            \n",
      "Epoch 14 Train loss -33.35856628417969 Batch 300 of 300            \n",
      "Epoch 15 Train loss -33.575767517089844 Batch 300 of 300           \n",
      "Epoch 16 Train loss -32.609130859375 Batch 300 of 300              \n",
      "Epoch 17 Train loss -34.98729705810547 Batch 300 of 300            \n",
      "Epoch 18 Train loss -34.561885833740234 Batch 300 of 300           \n",
      "Epoch 19 Train loss -30.98688507080078 Batch 300 of 300            \n",
      "Epoch 20 Train loss -29.864587783813477 Batch 300 of 300           \n",
      "Epoch 21 Train loss -33.8400993347168 Batch 300 of 300             \n",
      "Epoch 22 Train loss -36.095149993896484 Batch 300 of 300           \n",
      "Epoch 23 Train loss -37.0925178527832 Batch 300 of 300             \n",
      "Epoch 24 Train loss -28.839250564575195 Batch 300 of 300           \n",
      "Epoch 25 Train loss -35.9208869934082 Batch 300 of 300             \n",
      "Epoch 26 Train loss -34.13934326171875 Batch 300 of 300            \n",
      "Epoch 27 Train loss -37.091331481933594 Batch 300 of 300           \n",
      "Epoch 28 Train loss -30.10831069946289 Batch 300 of 300            \n",
      "Epoch 29 Train loss -32.97235870361328 Batch 300 of 300            \n",
      "CPU times: user 4min 1s, sys: 19.2 s, total: 4min 20s\n",
      "Wall time: 3min 27s\n"
     ]
    }
   ],
   "source": [
    "%time model_um = train_model(train_data, model, generate_horizontal_line_MNIST, \\\n",
    "                             batch_size=200, num_epochs=30, learning_rate=1e-3)"
   ]
  },
  {
   "cell_type": "code",
   "execution_count": 11,
   "metadata": {},
   "outputs": [],
   "source": [
    "model_um['model'] = model_um['model'].cpu()"
   ]
  },
  {
   "cell_type": "code",
   "execution_count": 12,
   "metadata": {},
   "outputs": [],
   "source": [
    "s = model_um['model'].state_dict()\n",
    "import pickle as pkl\n",
    "with open('mnist_um.weights', 'wb') as f:\n",
    "    pkl.dump(s, f)\n",
    "with open('mnist_um.debug_info', 'wb') as f:\n",
    "    pkl.dump({\n",
    "        'train_losses_list': model_um['train_losses_list'],\n",
    "        'test_results': model_um['test_results']\n",
    "    }, f)"
   ]
  },
  {
   "cell_type": "code",
   "execution_count": 13,
   "metadata": {},
   "outputs": [],
   "source": [
    "import pickle as pkl\n",
    "with open('mnist_um.weights', 'rb') as f:\n",
    "    s = pkl.load(f)\n",
    "with open('mnist_um.debug_info', 'rb') as f:\n",
    "    model_um = pkl.load(f)\n",
    "model.load_state_dict(s)\n",
    "model_um['model'] = model"
   ]
  },
  {
   "cell_type": "code",
   "execution_count": 14,
   "metadata": {},
   "outputs": [],
   "source": [
    "def draw_sample(img):\n",
    "    plt.imshow(img.reshape(28,28), cmap='Greys_r', vmin=0, vmax=1)\n",
    "    plt.axis('off')"
   ]
  },
  {
   "cell_type": "code",
   "execution_count": 15,
   "metadata": {},
   "outputs": [],
   "source": [
    "def test_sample(img0, mask0, model, K):\n",
    "    img = img0.view(1, -1)\n",
    "    mask = mask0.view(1, -1)\n",
    "    res = {}\n",
    "    res['input'] = (0.5 * mask + img0.view(1, -1) * (1 - mask)).view(28, 28).numpy()\n",
    "    res['groundtruth'] = img0.view(28, 28).numpy()\n",
    "    res['results'] = (model.generate_samples(img, mask, K).numpy() * mask.view(1, 1, 28 * 28) + \\\n",
    "                ((1 - mask) * img).view(1, 1, 28 * 28)).view(-1, 28, 28)\n",
    "    return res"
   ]
  },
  {
   "cell_type": "code",
   "execution_count": 16,
   "metadata": {},
   "outputs": [],
   "source": [
    "np.random.seed(123)\n",
    "res = []\n",
    "for i in range(10):\n",
    "    while True:\n",
    "        a = test_data.tensors[0][np.random.choice(test_data.tensors[0].shape[0])]\n",
    "        b = generate_horizontal_line_MNIST(1)\n",
    "        if np.all(a * (1 - b) == 0):\n",
    "            continue\n",
    "        lres = test_sample(a, b, model_um['model'], 10)\n",
    "        break\n",
    "    res.append(lres)"
   ]
  },
  {
   "cell_type": "code",
   "execution_count": 17,
   "metadata": {},
   "outputs": [
    {
     "data": {
      "image/png": "[encoded data removed]",
      "text/plain": [
       "<Figure size 432x360 with 120 Axes>"
      ]
     },
     "metadata": {},
     "output_type": "display_data"
    }
   ],
   "source": [
    "s = 0.5\n",
    "n = 10\n",
    "plt.figure(figsize=((n + 2) * s, s * len(res)))\n",
    "for i in range(len(res)):\n",
    "    plt.subplot(len(res), (n + 2), i * (n + 2) + 1)\n",
    "    draw_sample(res[i]['input'])\n",
    "    for j in range(n):\n",
    "        plt.subplot(len(res), (n + 2), i * (n + 2) + j + 2)\n",
    "        draw_sample(res[i]['results'][j])\n",
    "    plt.subplot(len(res), (n + 2), i * (n + 2) + n + 2)\n",
    "    draw_sample(res[i]['groundtruth'])\n",
    "plt.tight_layout(pad=0, w_pad=-2.2, h_pad=-2.2)\n",
    "plt.savefig('mnist_um.pdf', bbox_inches='tight')"
   ]
  },
  {
   "cell_type": "code",
   "execution_count": 18,
   "metadata": {},
   "outputs": [
    {
     "name": "stdout",
     "output_type": "stream",
     "text": [
      "CPU times: user 7.56 s, sys: 2.77 s, total: 10.3 s\n",
      "Wall time: 10.3 s\n"
     ]
    }
   ],
   "source": [
    "model_um['model'].cuda()\n",
    "a = test_data.tensors[0][np.random.choice(test_data.tensors[0].shape[0], 10)]\n",
    "b = generate_horizontal_line_MNIST(10)\n",
    "%time model_um['model'].generate_samples(a.cuda(), b.cuda(), 100)\n",
    "model_um['model'].cpu()\n",
    "pass"
   ]
  },
  {
   "cell_type": "code",
   "execution_count": 19,
   "metadata": {},
   "outputs": [],
   "source": [
    "def chain_rule_log_likelihood_estimation(model, x_true, b, K=1):\n",
    "    n, d = b.shape\n",
    "    x_true = x_true.view(n, 1, d).repeat(1, K, 1).view(-1, d)\n",
    "    b = b.view(n, 1, d).repeat(1, K, 1).view(-1, d)\n",
    "    res = torch.zeros(b.size(0)).cuda()\n",
    "    while (b.sum() != 0):\n",
    "        data = torch.cat([x_true * (1 - b), b], 1)\n",
    "        x_distr = model.network(Variable(data)).data\n",
    "        b_sum = b.sum(1, True)\n",
    "        i_idx = torch.nonzero(b_sum)[:, 0]\n",
    "        j_idx = torch.multinomial(b[i_idx] / b_sum[i_idx], 1).view(-1)\n",
    "        add = binary_crossentropy_loss(\n",
    "            x_true[i_idx, j_idx].view(-1, 1),\n",
    "            x_distr[i_idx, j_idx].view(-1, 1), torch.ones(i_idx.shape[0], 1).cuda())[:, 0]\n",
    "        res[i_idx] += add\n",
    "        b[i_idx, j_idx] = 0\n",
    "    return float(log_mean_exp(res.view(-1, K)).mean())"
   ]
  },
  {
   "cell_type": "code",
   "execution_count": 20,
   "metadata": {},
   "outputs": [
    {
     "name": "stdout",
     "output_type": "stream",
     "text": [
      "-40.926060040791825\n",
      "CPU times: user 15.5 s, sys: 393 ms, total: 15.9 s\n",
      "Wall time: 15.9 s\n"
     ]
    }
   ],
   "source": [
    "model_um['model'].cuda()\n",
    "%time print(model_test_loss(test_data, generate_horizontal_line_MNIST, \\\n",
    "                            lambda batch, b: \\\n",
    "                            chain_rule_log_likelihood_estimation(model_um['model'], batch, b, K=100), \\\n",
    "                            max_batches=5, batch_size=1, is_cuda=True))\n",
    "model_um['model'].cpu()\n",
    "pass"
   ]
  }
 ],
 "metadata": {
  "kernelspec": {
   "display_name": "Python 3",
   "language": "python",
   "name": "python3"
  },
  "language_info": {
   "codemirror_mode": {
    "name": "ipython",
    "version": 3
   },
   "file_extension": ".py",
   "mimetype": "text/x-python",
   "name": "python",
   "nbconvert_exporter": "python",
   "pygments_lexer": "ipython3",
   "version": "3.6.4"
  }
 },
 "nbformat": 4,
 "nbformat_minor": 2
}
